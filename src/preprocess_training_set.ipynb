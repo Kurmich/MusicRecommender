{
 "cells": [
  {
   "cell_type": "code",
   "execution_count": 1,
   "id": "bfb6bbbc",
   "metadata": {},
   "outputs": [],
   "source": [
    "import numpy as np\n",
    "import matplotlib.pyplot as plt\n",
    "import json\n",
    "import pandas as pd\n",
    "import collections\n",
    "import sys\n",
    "import os\n",
    "import re\n",
    "from matplotlib import pyplot as plt\n",
    "from utils import *"
   ]
  },
  {
   "cell_type": "code",
   "execution_count": 2,
   "id": "bf7ea51c",
   "metadata": {},
   "outputs": [],
   "source": [
    "total_playlists  = 0\n",
    "total_tracks     = 0\n",
    "playlist_titles  = list()\n",
    "playlist_tracks  = list()\n",
    "playlist_artists = list()\n",
    "track_histogram  = collections.Counter()\n",
    "artist_histogram = collections.Counter()\n",
    "track2artist     = dict()\n",
    "track2info       = dict()        "
   ]
  },
  {
   "cell_type": "code",
   "execution_count": 3,
   "id": "0ba5e7be",
   "metadata": {},
   "outputs": [],
   "source": [
    "def process_mpd(path):\n",
    "    count = 0\n",
    "    filenames = os.listdir(path)\n",
    "    for filename in sorted(filenames):\n",
    "        if filename.startswith(\"mpd.slice.\") and filename.endswith(\".json\"):\n",
    "            fullpath = os.sep.join((path, filename))\n",
    "            f = open(fullpath)\n",
    "            js = f.read()\n",
    "            f.close()\n",
    "            mpd_slice = json.loads(js)\n",
    "            for playlist in mpd_slice[\"playlists\"]:\n",
    "                process_playlist(playlist)\n",
    "            count += 1\n",
    "    \n",
    "\n",
    "    \n",
    "def process_playlist(playlist):\n",
    "    global total_playlists, total_tracks\n",
    "\n",
    "    total_playlists += 1\n",
    "    nname = normalize_name(playlist[\"name\"])\n",
    "    playlist_titles.append(nname)\n",
    "    \n",
    "    tracks, artists = [], []\n",
    "    for track in playlist[\"tracks\"]:\n",
    "        total_tracks += 1\n",
    "        track_uri    = track[\"track_uri\"].split(':')[2]\n",
    "        tracks.append(track_uri)\n",
    "        track_histogram[track_uri] += 1\n",
    "        \n",
    "        artist_uri = track[\"artist_uri\"].split(':')[2]\n",
    "        artists.append(artist_uri)\n",
    "        artist_histogram[artist_uri] += 1\n",
    "        track2artist[track_uri] = artist_uri\n",
    "        track2info[track_uri]  = [track['track_name'], track['artist_name']]\n",
    "        \n",
    "    \n",
    "\n",
    "    playlist_tracks.append(tracks)\n",
    "    playlist_artists.append(artists)\n",
    "    \n",
    "\n",
    "\n",
    "def prune_ordered_histogram(hist, min_count):\n",
    "    '''\n",
    "    removes pairs that have frequency of appearance less than min_count\n",
    "    hist -  dictionary ordered according to frequency (values)\n",
    "    '''\n",
    "    keys   = list(hist.keys())\n",
    "    counts = list(hist.values())\n",
    "    \n",
    "    if min_count > 1:\n",
    "        cutoff_idx = counts.index(min_count-1)\n",
    "        del keys[cutoff_idx:]\n",
    "        del counts[cutoff_idx:]\n",
    "    return keys, counts\n",
    "    \n",
    "\n",
    "def change_uri_to_id(uris, uri_to_id_map):\n",
    "    #get all track ids that are in the uri_to_id_map\n",
    "    ids = []\n",
    "    for cur_uri in uris:\n",
    "        cur_id = uri_to_id_map.get(cur_uri, -1)\n",
    "        if cur_id == -1:\n",
    "            continue\n",
    "        ids.append(cur_id)\n",
    "    return ids"
   ]
  },
  {
   "cell_type": "code",
   "execution_count": 4,
   "id": "b77bc87b",
   "metadata": {},
   "outputs": [],
   "source": [
    "process_mpd(orig_data_dir)"
   ]
  },
  {
   "cell_type": "code",
   "execution_count": 5,
   "id": "2a5f0baa",
   "metadata": {},
   "outputs": [
    {
     "name": "stdout",
     "output_type": "stream",
     "text": [
      "After filtering, number of tracks = 26709\n"
     ]
    }
   ],
   "source": [
    "MIN_TRACK_FREQ   = 300 #15\n",
    "\n",
    "#remove all tracks that appear less than MIN_TRACK_FREQ times within the whole training set\n",
    "track_uris, track_freq = prune_ordered_histogram(collections.OrderedDict(track_histogram.most_common()), MIN_TRACK_FREQ)\n",
    "track_count = len(track_uris)\n",
    "\n",
    "#new uri to id mapping with tracks that appear at least MIN_TRACK_FREQ times\n",
    "track_uri_to_id = dict(zip(track_uris, range(0, track_count)))\n",
    "\n",
    "print('After filtering, number of tracks = %d' %(track_count))\n",
    "\n",
    "#Save track information\n",
    "pruned_id_to_info = dict()\n",
    "for track_uri in track_uris:\n",
    "    pruned_id_to_info[track_uri_to_id[track_uri]] = track2info[track_uri]\n",
    "\n",
    "with open(train_data_dir+'/'+'id_to_info', 'w') as info_file:\n",
    "    json.dump(pruned_id_to_info, info_file, indent=\"\\t\")"
   ]
  },
  {
   "cell_type": "code",
   "execution_count": 6,
   "id": "036b7e86",
   "metadata": {},
   "outputs": [
    {
     "name": "stdout",
     "output_type": "stream",
     "text": [
      "After filtering, number of artists = 12018\n"
     ]
    }
   ],
   "source": [
    "MIN_ARTIST_FREQ  = 300 #15\n",
    "\n",
    "#remove all artists that appear less than MIN_TRACK_FREQ times within the whole training set\n",
    "artist_uris, artist_freq = prune_ordered_histogram(collections.OrderedDict(artist_histogram.most_common()), MIN_ARTIST_FREQ)\n",
    "artist_count = len(artist_uris)\n",
    "artist_uri_to_id = dict(zip(artist_uris, range(0, artist_count)))\n",
    "\n",
    "print('After filtering, number of artists = %d' %(artist_count))"
   ]
  },
  {
   "cell_type": "code",
   "execution_count": 7,
   "id": "4540d4fb",
   "metadata": {},
   "outputs": [
    {
     "data": {
      "image/png": "[encoded data removed]",
      "text/plain": [
       "<Figure size 432x288 with 1 Axes>"
      ]
     },
     "metadata": {
      "needs_background": "light"
     },
     "output_type": "display_data"
    }
   ],
   "source": [
    "plt.hist(track_freq, bins = 10000, density = True)\n",
    "plt.show()\n",
    "#print(list(track_histogram.values())[:100])"
   ]
  },
  {
   "cell_type": "code",
   "execution_count": 8,
   "id": "29fc9886",
   "metadata": {},
   "outputs": [
    {
     "name": "stdout",
     "output_type": "stream",
     "text": [
      "Total number of playlists 897959\n"
     ]
    }
   ],
   "source": [
    "playlists      = []\n",
    "all_track_uris = set()\n",
    "for tracks_uris, artists_uris, title in zip(playlist_tracks, playlist_artists, playlist_titles):\n",
    "    tracks_ids  = change_uri_to_id(tracks_uris, track_uri_to_id)\n",
    "    artists_ids = change_uri_to_id(artists_uris, artist_uri_to_id)\n",
    "    all_track_uris.update(tracks_uris)\n",
    "    if len(tracks_ids) == 0 and len(artists_ids) == 0:\n",
    "        continue\n",
    "    if len(tracks_ids) > 250 or len(artists_ids) > 250:\n",
    "        continue\n",
    "    title_char_indices = title_to_indices(title, MAX_TITLE_LEN)\n",
    "    playlists.append([tracks_ids, artists_ids, title_char_indices])\n",
    "\n",
    "print('Total number of playlists %d' %len(playlists))\n"
   ]
  },
  {
   "cell_type": "code",
   "execution_count": 9,
   "id": "3a80586e",
   "metadata": {},
   "outputs": [
    {
     "name": "stdout",
     "output_type": "stream",
     "text": [
      "train\n",
      "num playlists: 897959,  tracks>=min_count: 26709, artists>=min_count: 12018\n",
      "Num of tracks before filtering tracks 2150612\n"
     ]
    }
   ],
   "source": [
    "#save training set       \n",
    "file_data = dict()\n",
    "file_data['max_title_len']    = MAX_TITLE_LEN\n",
    "file_data['num_char']         = NUM_CHAR\n",
    "file_data['all_track_uris']   = list(all_track_uris)\n",
    "\n",
    "file_data['track_uri_to_id']  = track_uri_to_id\n",
    "file_data['artist_uri_to_id'] = artist_uri_to_id\n",
    "file_data['char_to_idx']      = char_to_idx\n",
    "\n",
    "file_data['playlists']        = playlists\n",
    "\n",
    "print('train')\n",
    "with open(train_json, 'w') as make_file:\n",
    "    json.dump(file_data, make_file, indent=\"\\t\")\n",
    "print(\"num playlists: %d,  tracks>=min_count: %d, artists>=min_count: %d\" %\n",
    "      (len(playlists), len(track_uri_to_id), len(artist_uri_to_id)))\n",
    "print('Num of tracks before filtering tracks %d' % (len(file_data['all_track_uris'])))"
   ]
  }
 ],
 "metadata": {
  "kernelspec": {
   "display_name": "Python 3",
   "language": "python",
   "name": "python3"
  },
  "language_info": {
   "codemirror_mode": {
    "name": "ipython",
    "version": 3
   },
   "file_extension": ".py",
   "mimetype": "text/x-python",
   "name": "python",
   "nbconvert_exporter": "python",
   "pygments_lexer": "ipython3",
   "version": "3.8.8"
  }
 },
 "nbformat": 4,
 "nbformat_minor": 5
}
