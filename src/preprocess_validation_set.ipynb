{
 "cells": [
  {
   "cell_type": "code",
   "execution_count": 1,
   "id": "9a712523",
   "metadata": {},
   "outputs": [],
   "source": [
    "import json\n",
    "import os\n",
    "import re\n",
    "from utils import *"
   ]
  },
  {
   "cell_type": "code",
   "execution_count": 2,
   "id": "9602bf86",
   "metadata": {},
   "outputs": [],
   "source": [
    "track_uri_to_id, artist_uri_to_id, _ = get_training_set_info() "
   ]
  },
  {
   "cell_type": "code",
   "execution_count": 3,
   "id": "5d166445",
   "metadata": {},
   "outputs": [],
   "source": [
    "valid_playlists = list() #all playlists in the validation set"
   ]
  },
  {
   "cell_type": "code",
   "execution_count": 4,
   "id": "34026e54",
   "metadata": {},
   "outputs": [],
   "source": [
    "def process_playlist_for_validation(playlist, valid_playlists):\n",
    "    tracks  = []\n",
    "    artists = []\n",
    "    for track in playlist['tracks']:\n",
    "        track_uri  = track['track_uri'].split(':')[2]\n",
    "        artist_uri = track['artist_uri'].split(':')[2]\n",
    "        # not consider tracks that did not appear in the training set.\n",
    "        if track_uri in track_uri_to_id:\n",
    "            track_id = track_uri_to_id[track_uri]\n",
    "            tracks.append(track_id)\n",
    "        if artist_uri in artist_uri_to_id:\n",
    "            artist_id = artist_uri_to_id[artist_uri]\n",
    "            artists.append(artist_id)\n",
    "            \n",
    "    #get vector representation of playlist name\n",
    "    name = normalize_name(playlist['name'])\n",
    "    title_char_indices = title_to_indices(name, MAX_TITLE_LEN)\n",
    "\n",
    "    valid_playlists.append([tracks, artists, title_char_indices])"
   ]
  },
  {
   "cell_type": "code",
   "execution_count": 5,
   "id": "74688b61",
   "metadata": {},
   "outputs": [
    {
     "name": "stdout",
     "output_type": "stream",
     "text": [
      "Number of playlists: 50000\n"
     ]
    }
   ],
   "source": [
    "filenames = os.listdir(valid_fullpaths)\n",
    "for filename in sorted(filenames):\n",
    "     if filename.startswith(\"mpd.slice.\") and filename.endswith(\".json\"):\n",
    "        fullpath = os.sep.join((valid_fullpaths, filename))\n",
    "        f = open(fullpath)\n",
    "        js = f.read()\n",
    "        f.close()\n",
    "        mpd_slice = json.loads(js)\n",
    "        \n",
    "        #add playlist to validation set\n",
    "        for playlist in mpd_slice[\"playlists\"]:\n",
    "            process_playlist_for_validation(playlist, valid_playlists)\n",
    "\n",
    "#save validation data\n",
    "file_data              = {}\n",
    "file_data['playlists'] = valid_playlists\n",
    "if not os.path.isdir(valid_data_dir):\n",
    "    os.mkdir(valid_data_dir)\n",
    "with open(valid_json, 'w') as make_file:\n",
    "    json.dump(file_data, make_file, indent=\"\\t\")\n",
    "print(\"Number of playlists: %d\" % len(valid_playlists))"
   ]
  },
  {
   "cell_type": "code",
   "execution_count": null,
   "id": "49cac439",
   "metadata": {},
   "outputs": [],
   "source": []
  }
 ],
 "metadata": {
  "kernelspec": {
   "display_name": "Python 3",
   "language": "python",
   "name": "python3"
  },
  "language_info": {
   "codemirror_mode": {
    "name": "ipython",
    "version": 3
   },
   "file_extension": ".py",
   "mimetype": "text/x-python",
   "name": "python",
   "nbconvert_exporter": "python",
   "pygments_lexer": "ipython3",
   "version": "3.8.8"
  }
 },
 "nbformat": 4,
 "nbformat_minor": 5
}
