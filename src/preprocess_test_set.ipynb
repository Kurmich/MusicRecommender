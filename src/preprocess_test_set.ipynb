{
 "cells": [
  {
   "cell_type": "code",
   "execution_count": 1,
   "id": "052fdfa1",
   "metadata": {},
   "outputs": [],
   "source": [
    "import json\n",
    "import os\n",
    "import re\n",
    "from utils import *"
   ]
  },
  {
   "cell_type": "code",
   "execution_count": 2,
   "id": "862b498d",
   "metadata": {},
   "outputs": [],
   "source": [
    "track_uri_to_id, artist_uri_to_id, all_track_uris = get_training_set_info()"
   ]
  },
  {
   "cell_type": "code",
   "execution_count": 3,
   "id": "a8c8587f",
   "metadata": {},
   "outputs": [],
   "source": [
    "def process_playlist_for_test(playlist, test_seeds_num, seed_playlists):\n",
    "    tracks = []\n",
    "    artists = []\n",
    "    for track in playlist['tracks']:\n",
    "        track_uri  = track['track_uri'].split(':')[2]\n",
    "        artist_uri = track['artist_uri'].split(':')[2]\n",
    "        # not consider tracks that did not appear in the training set.\n",
    "        if track_uri not in all_track_uris:\n",
    "            continue\n",
    "            \n",
    "        track_id = track_uri_to_id.get(track_uri, -1)\n",
    "        tracks.append(track_id)\n",
    "        artist_id = artist_uri_to_id.get(artist_uri, -1)\n",
    "        artists.append(artist_id)\n",
    "\n",
    "    if len(tracks) <= test_seeds_num:\n",
    "        return\n",
    "    n_answers = len(tracks) - test_seeds_num\n",
    "\n",
    "    #if there are less than 30 or more than 100 tracks that are in the set to be predicted \n",
    "    #then ignore playlist\n",
    "    if n_answers < 30 or n_answers > 100:\n",
    "        return\n",
    "    \n",
    "    seeds_tracks            = []\n",
    "    seeds_artists           = []\n",
    "    tracks_to_predict       = []\n",
    "\n",
    "    for track, artist in zip(tracks[:test_seeds_num], artists[:test_seeds_num]):\n",
    "        if track != -1:\n",
    "            seeds_tracks.append(track)\n",
    "        if artist != -1:\n",
    "            seeds_artists.append(artist)\n",
    "\n",
    "    for track in tracks[test_seeds_num:]:\n",
    "        if (track not in seeds_tracks) and (track == -1 or track not in tracks_to_predict):\n",
    "            tracks_to_predict.append(track)\n",
    "            \n",
    "\n",
    "    #get vector representation of playlist name\n",
    "    name               = normalize_name(playlist['name'])\n",
    "    title_char_indices = title_to_indices(name, MAX_TITLE_LEN)\n",
    "\n",
    "    seed_playlists.append([seeds_tracks, seeds_artists, title_char_indices, tracks_to_predict])"
   ]
  },
  {
   "cell_type": "code",
   "execution_count": 4,
   "id": "5058bbf2",
   "metadata": {},
   "outputs": [
    {
     "name": "stdout",
     "output_type": "stream",
     "text": [
      "Creating test set for 1 starting tracks\n",
      "Number of playlists: 23568\n",
      "Creating test set for 5 starting tracks\n",
      "Number of playlists: 21850\n",
      "Creating test set for 10 starting tracks\n",
      "Number of playlists: 19959\n",
      "Creating test set for 25 starting tracks\n",
      "Number of playlists: 15236\n",
      "Creating test set for 100 starting tracks\n",
      "Number of playlists: 5058\n"
     ]
    }
   ],
   "source": [
    "test_seeds_nums = [1, 5, 10, 25, 100]\n",
    "for test_seeds_num in test_seeds_nums:\n",
    "    print('Creating test set for %d starting tracks' %test_seeds_num)\n",
    "    playlists = list()\n",
    "    filenames = os.listdir(test_fullpaths)\n",
    "    for filename in sorted(filenames):\n",
    "         if filename.startswith(\"mpd.slice.\") and filename.endswith(\".json\"):\n",
    "            fullpath = os.sep.join((test_fullpaths, filename))\n",
    "            f = open(fullpath)\n",
    "            js = f.read()\n",
    "            f.close()\n",
    "            mpd_slice = json.loads(js)\n",
    "            #add playlists to test set\n",
    "            for playlist in mpd_slice[\"playlists\"]:\n",
    "                process_playlist_for_test(playlist, test_seeds_num, playlists)\n",
    "\n",
    "    file_data = {}\n",
    "    file_data['playlists'] = playlists\n",
    "    name = 'test-'+str(test_seeds_num)\n",
    "    if not os.path.isdir(test_data_dir):\n",
    "        os.mkdir(test_data_dir)\n",
    "    with open(test_data_dir+'/'+name, 'w') as make_file:\n",
    "        json.dump(file_data, make_file, indent=\"\\t\")\n",
    "    print(\"Number of playlists: %d\" % len(playlists))"
   ]
  },
  {
   "cell_type": "code",
   "execution_count": null,
   "id": "bf03ea6a",
   "metadata": {},
   "outputs": [],
   "source": []
  }
 ],
 "metadata": {
  "kernelspec": {
   "display_name": "Python 3",
   "language": "python",
   "name": "python3"
  },
  "language_info": {
   "codemirror_mode": {
    "name": "ipython",
    "version": 3
   },
   "file_extension": ".py",
   "mimetype": "text/x-python",
   "name": "python",
   "nbconvert_exporter": "python",
   "pygments_lexer": "ipython3",
   "version": "3.8.8"
  }
 },
 "nbformat": 4,
 "nbformat_minor": 5
}
